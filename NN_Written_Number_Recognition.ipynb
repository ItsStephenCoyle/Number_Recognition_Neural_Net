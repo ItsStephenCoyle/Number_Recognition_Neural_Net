{
 "cells": [
  {
   "cell_type": "code",
   "execution_count": 134,
   "id": "b1142474",
   "metadata": {},
   "outputs": [],
   "source": [
    "### Importing required libraries and data ###\n",
    "\n",
    "import tensorflow as tf \n",
    "from tensorflow import keras\n",
    "from keras.datasets import mnist\n",
    "from keras.preprocessing.image import load_img, array_to_img\n",
    "from keras.utils.np_utils import to_categorical\n",
    "from keras.models import Sequential\n",
    "from keras.layers import Dense\n",
    "import numpy as np\n",
    "import matplotlib.pyplot as plt\n",
    "%matplotlib inline"
   ]
  },
  {
   "cell_type": "code",
   "execution_count": 135,
   "id": "4f53fa99",
   "metadata": {},
   "outputs": [],
   "source": [
    "# Loading data for preprocessing\n",
    "\n",
    "(X_train, y_train), (X_test, y_test) = mnist.load_data()"
   ]
  },
  {
   "cell_type": "code",
   "execution_count": 136,
   "id": "95e85484",
   "metadata": {},
   "outputs": [
    {
     "data": {
      "text/plain": [
       "(28, 28)"
      ]
     },
     "execution_count": 136,
     "metadata": {},
     "output_type": "execute_result"
    }
   ],
   "source": [
    "# Training and test data formating *This is not require but here to help visulize the data*\n",
    "\n",
    "#returns the size of the first object\n",
    "X_train[0].shape"
   ]
  },
  {
   "cell_type": "code",
   "execution_count": 137,
   "id": "87db03ba",
   "metadata": {},
   "outputs": [
    {
     "data": {
      "text/plain": [
       "<matplotlib.image.AxesImage at 0x1a5a6beb3a0>"
      ]
     },
     "execution_count": 137,
     "metadata": {},
     "output_type": "execute_result"
    },
    {
     "data": {
      "image/png": "[encoded data removed]",
      "text/plain": [
       "<Figure size 432x288 with 1 Axes>"
      ]
     },
     "metadata": {
      "needs_background": "light"
     },
     "output_type": "display_data"
    }
   ],
   "source": [
    "#Shows the image\n",
    "plt.imshow(X_train[0],cmap='gray')"
   ]
  },
  {
   "cell_type": "code",
   "execution_count": 138,
   "id": "bcdf6067",
   "metadata": {},
   "outputs": [
    {
     "data": {
      "text/plain": [
       "5"
      ]
     },
     "execution_count": 138,
     "metadata": {},
     "output_type": "execute_result"
    }
   ],
   "source": [
    "y_train[0]"
   ]
  },
  {
   "cell_type": "code",
   "execution_count": 139,
   "id": "4f066691",
   "metadata": {},
   "outputs": [
    {
     "name": "stdout",
     "output_type": "stream",
     "text": [
      "(60000, 784)\n",
      "(10000, 784)\n"
     ]
    }
   ],
   "source": [
    "### Preprocessing the Training Data ###\n",
    "\n",
    "image_hight,image_width = 28,28\n",
    "\n",
    "#Since each pixle of the image will be a node input the data is reshaped to be one long vector\n",
    "X_train = X_train.reshape(60000,image_hight*image_width)\n",
    "X_test = X_test.reshape(10000, image_hight*image_width)\n",
    "print(X_train.shape)\n",
    "print(X_test.shape)\n",
    "\n",
    "# Because the data is in gray scale the values are between 0 and 255.  The format needs to be change\n",
    "# so it can represent a neurons activation.  Here the data type is change to float to incorporate decimals\n",
    "# and then the data is divided by 255 to achieve a range of 0-1.\n",
    "X_train.astype('float32')\n",
    "X_test.astype('float32')\n",
    "X_train = X_train / 255.0\n",
    "X_test = X_test / 255.0"
   ]
  },
  {
   "cell_type": "code",
   "execution_count": 140,
   "id": "f29b7943",
   "metadata": {},
   "outputs": [],
   "source": [
    "### Preprocessing the Test Data ###\n",
    "\n",
    "#Converts the y data from a number such as 5 it will return a binary vector inrepresentation ie. 0, 0, 0, 0, 0, 1, 0, 0, 0, 0\n",
    "y_train = to_categorical(y_train,10)\n",
    "y_test = to_categorical(y_test,10)"
   ]
  },
  {
   "cell_type": "code",
   "execution_count": 141,
   "id": "93ffd51e",
   "metadata": {},
   "outputs": [],
   "source": [
    "### Building the Model ###\n",
    "\n",
    "model = Sequential()\n",
    "\n",
    "model.add(Dense(512, activation='relu', input_shape=(784,)))  \n",
    "    # Dense is a fully connected node\n",
    "    # relu is an activation funtion for applying rectified linear unit activation (_/ shape)\n",
    "\n",
    "model.add(Dense(512, activation='relu'))\n",
    "\n",
    "model.add(Dense(10, activation='softmax'))\n",
    "    # makes the output one out of the ten classes"
   ]
  },
  {
   "cell_type": "code",
   "execution_count": 142,
   "id": "22217072",
   "metadata": {},
   "outputs": [
    {
     "name": "stdout",
     "output_type": "stream",
     "text": [
      "Model: \"sequential_1\"\n",
      "_________________________________________________________________\n",
      "Layer (type)                 Output Shape              Param #   \n",
      "=================================================================\n",
      "dense_3 (Dense)              (None, 512)               401920    \n",
      "_________________________________________________________________\n",
      "dense_4 (Dense)              (None, 512)               262656    \n",
      "_________________________________________________________________\n",
      "dense_5 (Dense)              (None, 10)                5130      \n",
      "=================================================================\n",
      "Total params: 669,706\n",
      "Trainable params: 669,706\n",
      "Non-trainable params: 0\n",
      "_________________________________________________________________\n"
     ]
    }
   ],
   "source": [
    "### Compiling the Model ###\n",
    "\n",
    "model.compile(optimizer='adam',loss='categorical_crossentropy', metrics=['accuracy'])\n",
    "    # adam is a algorithm that optimizes with a stochastic gradient descent method\n",
    "    # the categorical crossentropy allow for the ten output nodes\n",
    "    # accurancy - This metric creates two local variables, total and count that are used to \n",
    "    # compute the frequency with which y_pred matches y_true.\n",
    "    \n",
    "model.summary()"
   ]
  },
  {
   "cell_type": "code",
   "execution_count": 143,
   "id": "89166bf1",
   "metadata": {},
   "outputs": [
    {
     "name": "stdout",
     "output_type": "stream",
     "text": [
      "Epoch 1/20\n",
      "1875/1875 [==============================] - 9s 5ms/step - loss: 0.1848 - accuracy: 0.9432 - val_loss: 0.0995 - val_accuracy: 0.9694\n",
      "Epoch 2/20\n",
      "1875/1875 [==============================] - 9s 5ms/step - loss: 0.0771 - accuracy: 0.9757 - val_loss: 0.0907 - val_accuracy: 0.9713\n",
      "Epoch 3/20\n",
      "1875/1875 [==============================] - 9s 5ms/step - loss: 0.0549 - accuracy: 0.9822 - val_loss: 0.0787 - val_accuracy: 0.9768\n",
      "Epoch 4/20\n",
      "1875/1875 [==============================] - 9s 5ms/step - loss: 0.0424 - accuracy: 0.9867 - val_loss: 0.0717 - val_accuracy: 0.9793\n",
      "Epoch 5/20\n",
      "1875/1875 [==============================] - 9s 5ms/step - loss: 0.0333 - accuracy: 0.9892 - val_loss: 0.0702 - val_accuracy: 0.9819\n",
      "Epoch 6/20\n",
      "1875/1875 [==============================] - 9s 5ms/step - loss: 0.0296 - accuracy: 0.9909 - val_loss: 0.0782 - val_accuracy: 0.9808\n",
      "Epoch 7/20\n",
      "1875/1875 [==============================] - 9s 5ms/step - loss: 0.0251 - accuracy: 0.9922 - val_loss: 0.1025 - val_accuracy: 0.9760\n",
      "Epoch 8/20\n",
      "1875/1875 [==============================] - 9s 5ms/step - loss: 0.0248 - accuracy: 0.9922 - val_loss: 0.0783 - val_accuracy: 0.9813\n",
      "Epoch 9/20\n",
      "1875/1875 [==============================] - 9s 5ms/step - loss: 0.0186 - accuracy: 0.9940 - val_loss: 0.0975 - val_accuracy: 0.9787\n",
      "Epoch 10/20\n",
      "1875/1875 [==============================] - 9s 5ms/step - loss: 0.0189 - accuracy: 0.9944 - val_loss: 0.1032 - val_accuracy: 0.9799\n",
      "Epoch 11/20\n",
      "1875/1875 [==============================] - 9s 5ms/step - loss: 0.0168 - accuracy: 0.9952 - val_loss: 0.1064 - val_accuracy: 0.9814\n",
      "Epoch 12/20\n",
      "1875/1875 [==============================] - 9s 5ms/step - loss: 0.0175 - accuracy: 0.9951 - val_loss: 0.1071 - val_accuracy: 0.9817\n",
      "Epoch 13/20\n",
      "1875/1875 [==============================] - 9s 5ms/step - loss: 0.0168 - accuracy: 0.9950 - val_loss: 0.1209 - val_accuracy: 0.9810\n",
      "Epoch 14/20\n",
      "1875/1875 [==============================] - 9s 5ms/step - loss: 0.0137 - accuracy: 0.9961 - val_loss: 0.1005 - val_accuracy: 0.9813\n",
      "Epoch 15/20\n",
      "1875/1875 [==============================] - 9s 5ms/step - loss: 0.0147 - accuracy: 0.9963 - val_loss: 0.1110 - val_accuracy: 0.9817\n",
      "Epoch 16/20\n",
      "1875/1875 [==============================] - 9s 5ms/step - loss: 0.0141 - accuracy: 0.9962 - val_loss: 0.1078 - val_accuracy: 0.9828\n",
      "Epoch 17/20\n",
      "1875/1875 [==============================] - 9s 5ms/step - loss: 0.0117 - accuracy: 0.9970 - val_loss: 0.1221 - val_accuracy: 0.9801\n",
      "Epoch 18/20\n",
      "1875/1875 [==============================] - 9s 5ms/step - loss: 0.0148 - accuracy: 0.9961 - val_loss: 0.1346 - val_accuracy: 0.9828\n",
      "Epoch 19/20\n",
      "1875/1875 [==============================] - 9s 5ms/step - loss: 0.0108 - accuracy: 0.9976 - val_loss: 0.1448 - val_accuracy: 0.9804\n",
      "Epoch 20/20\n",
      "1875/1875 [==============================] - 9s 5ms/step - loss: 0.0151 - accuracy: 0.9963 - val_loss: 0.1912 - val_accuracy: 0.9763\n"
     ]
    }
   ],
   "source": [
    "### Train the Model ###\n",
    "\n",
    "history = model.fit(X_train, y_train, epochs=20, validation_data=(X_test, y_test))"
   ]
  },
  {
   "cell_type": "code",
   "execution_count": 144,
   "id": "597ecd85",
   "metadata": {},
   "outputs": [
    {
     "data": {
      "text/plain": [
       "[<matplotlib.lines.Line2D at 0x1a5a5e9e4c0>]"
      ]
     },
     "execution_count": 144,
     "metadata": {},
     "output_type": "execute_result"
    },
    {
     "data": {
      "image/png": "[encoded data removed]",
      "text/plain": [
       "<Figure size 432x288 with 1 Axes>"
      ]
     },
     "metadata": {
      "needs_background": "light"
     },
     "output_type": "display_data"
    }
   ],
   "source": [
    "### Model Accuracy ###\n",
    "\n",
    "plt.plot(history.history['accuracy'])"
   ]
  },
  {
   "cell_type": "code",
   "execution_count": 145,
   "id": "732dd0ad",
   "metadata": {},
   "outputs": [
    {
     "data": {
      "text/plain": [
       "[<matplotlib.lines.Line2D at 0x1a5a5e5c580>]"
      ]
     },
     "execution_count": 145,
     "metadata": {},
     "output_type": "execute_result"
    },
    {
     "data": {
      "image/png": "[encoded data removed]",
      "text/plain": [
       "<Figure size 432x288 with 1 Axes>"
      ]
     },
     "metadata": {
      "needs_background": "light"
     },
     "output_type": "display_data"
    }
   ],
   "source": [
    "### Accuracy of Training and Validation with Loss ###\n",
    "\n",
    "plt.plot(history.history['accuracy'])\n",
    "plt.plot(history.history['val_accuracy'])"
   ]
  },
  {
   "cell_type": "code",
   "execution_count": 146,
   "id": "a774cdb6",
   "metadata": {},
   "outputs": [
    {
     "data": {
      "text/plain": [
       "[<matplotlib.lines.Line2D at 0x1a5a69da2e0>]"
      ]
     },
     "execution_count": 146,
     "metadata": {},
     "output_type": "execute_result"
    },
    {
     "data": {
      "image/png": "[encoded data removed]",
      "text/plain": [
       "<Figure size 432x288 with 1 Axes>"
      ]
     },
     "metadata": {
      "needs_background": "light"
     },
     "output_type": "display_data"
    }
   ],
   "source": [
    "plt.plot(history.history['accuracy'])\n",
    "plt.plot(history.history['val_accuracy'])\n",
    "plt.plot(history.history['loss'])\n"
   ]
  },
  {
   "cell_type": "code",
   "execution_count": 147,
   "id": "eb5605fe",
   "metadata": {},
   "outputs": [
    {
     "name": "stdout",
     "output_type": "stream",
     "text": [
      "313/313 [==============================] - 0s 1ms/step - loss: 0.1912 - accuracy: 0.9763\n"
     ]
    }
   ],
   "source": [
    "### Evaluating the Model ###\n",
    "\n",
    "score = model.evaluate(X_test, y_test)"
   ]
  },
  {
   "cell_type": "code",
   "execution_count": null,
   "id": "1c1fa170",
   "metadata": {},
   "outputs": [],
   "source": []
  }
 ],
 "metadata": {
  "kernelspec": {
   "display_name": "Python 3",
   "language": "python",
   "name": "python3"
  },
  "language_info": {
   "codemirror_mode": {
    "name": "ipython",
    "version": 3
   },
   "file_extension": ".py",
   "mimetype": "text/x-python",
   "name": "python",
   "nbconvert_exporter": "python",
   "pygments_lexer": "ipython3",
   "version": "3.8.10"
  }
 },
 "nbformat": 4,
 "nbformat_minor": 5
}
